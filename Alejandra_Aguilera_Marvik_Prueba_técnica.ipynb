{
  "nbformat": 4,
  "nbformat_minor": 0,
  "metadata": {
    "colab": {
      "provenance": [],
      "include_colab_link": true
    },
    "kernelspec": {
      "name": "python3",
      "display_name": "Python 3"
    }
  },
  "cells": [
    {
      "cell_type": "markdown",
      "metadata": {
        "id": "view-in-github",
        "colab_type": "text"
      },
      "source": [
        "<a href=\"https://colab.research.google.com/github/JAleAguilera/GalaticRunner/blob/main/Alejandra_Aguilera_Marvik_Prueba_t%C3%A9cnica.ipynb\" target=\"_parent\"><img src=\"https://colab.research.google.com/assets/colab-badge.svg\" alt=\"Open In Colab\"/></a>"
      ]
    },
    {
      "cell_type": "markdown",
      "metadata": {
        "id": "JcnNGkW2mkfN"
      },
      "source": [
        "# Prueba técnica de Marvik\n",
        "\n",
        "A continuación se encuentra un ejemplo práctico del uso de Deep Learning, utilizando Keras y Tensorflow.\n",
        "\n",
        "---\n"
      ]
    },
    {
      "cell_type": "markdown",
      "metadata": {
        "id": "gnv6Jj9WoIPj"
      },
      "source": [
        "## Predicción de series ordenadas en el tiempo\n",
        "\n",
        "En este proyecto se hará una predicción de una serie ordenada en el tiempo usando un regresor RNN (Recurrent Neural Network regressor).\n",
        "\n",
        "Se hará una predicción del precio de la acción de Apple con 7 días de anticipación, en base a una serie histórica.\n",
        "\n",
        "Se hará uso de una arquitectura para el RNN conocida como [Long Term Short Memory (LTSM)](https://en.wikipedia.org/wiki/Long_short-term_memory)."
      ]
    },
    {
      "cell_type": "markdown",
      "metadata": {
        "id": "vbDklWx_tvVz"
      },
      "source": [
        "### Parte 1: Primeros pasos\n",
        "Primero se debe cargar una serie histórica. Cargaremos una serie con el precio de la acción de Apple de 140 días. Luego se hará un pre-procesamiento para utilizar la información con un modelo de una RNN. Como primer paso se normalizó el rango la serie. Esto ayuda a evitar grandes problemas numéricos asociados a como las funciones de activación como tanh transforman números muy grandes (sean positivos o negativos) y ayuda a evitar problemas con el cálculo de las derivadas.\n",
        "\n",
        "Se normaliza la serie para que pertenezca al rango [-1,1] [usando esta función de la librería scikit](https://scikit-learn.org/stable/modules/generated/sklearn.preprocessing.MinMaxScaler.html). También es común ver aplicaciones donde se normaliza utilizando la desviación estándar.\n"
      ]
    },
    {
      "cell_type": "code",
      "metadata": {
        "id": "45EDLqTnRbuI",
        "colab": {
          "base_uri": "https://localhost:8080/"
        },
        "outputId": "f56bd2fa-98a6-456a-d42e-7c40fae32387"
      },
      "source": [
        "### Cargar las librerías necesarias para el cargado de los datos y la normalización\n",
        "%matplotlib inline\n",
        "import numpy as np\n",
        "import matplotlib.pyplot as plt\n",
        "\n",
        "\n",
        "# Clonar repositorio con los datos en espacio de trabajo\n",
        "! git clone https://bitbucket.org/botiaio/campusparty_applestock.git"
      ],
      "execution_count": 1,
      "outputs": [
        {
          "output_type": "stream",
          "name": "stdout",
          "text": [
            "Cloning into 'campusparty_applestock'...\n",
            "Unpacking objects: 100% (3/3), 1.77 KiB | 1.77 MiB/s, done.\n"
          ]
        }
      ]
    },
    {
      "cell_type": "code",
      "metadata": {
        "id": "nreN3_fWw2b9"
      },
      "source": [
        "### Cargar los datos normalizados\n",
        "dataset = np.loadtxt('campusparty_applestock/normalized_apple_prices.csv')"
      ],
      "execution_count": 2,
      "outputs": []
    },
    {
      "cell_type": "code",
      "source": [
        "# Obtener la longitud del dataset\n",
        "longitud_dataset = len(dataset)\n",
        "\n",
        "print(\"La longitud  es:\", longitud_dataset)"
      ],
      "metadata": {
        "colab": {
          "base_uri": "https://localhost:8080/"
        },
        "id": "V0ffjyRAT1zn",
        "outputId": "466bb50c-c13f-4793-83f9-a63a1f9ca262"
      },
      "execution_count": 3,
      "outputs": [
        {
          "output_type": "stream",
          "name": "stdout",
          "text": [
            "La longitud  es: 138\n"
          ]
        }
      ]
    },
    {
      "cell_type": "code",
      "source": [
        "#Obtener el shape del dataset\n",
        "print(\"Shape es:\", dataset.shape)"
      ],
      "metadata": {
        "colab": {
          "base_uri": "https://localhost:8080/"
        },
        "id": "WM43PccJnbeh",
        "outputId": "3ecb9275-6965-41ef-c28c-f8532acb0172"
      },
      "execution_count": 71,
      "outputs": [
        {
          "output_type": "stream",
          "name": "stdout",
          "text": [
            "Shape es: (138,)\n"
          ]
        }
      ]
    },
    {
      "cell_type": "code",
      "source": [
        "#Vista previa del dataset\n",
        "dataset"
      ],
      "metadata": {
        "colab": {
          "base_uri": "https://localhost:8080/"
        },
        "id": "hyw8UDV0a0rT",
        "outputId": "fed1779c-0189-472e-fb19-1611fc2feba4"
      },
      "execution_count": 5,
      "outputs": [
        {
          "output_type": "execute_result",
          "data": {
            "text/plain": [
              "array([-0.70062339, -0.82088484, -0.93938305, -0.9471652 , -0.68785527,\n",
              "       -0.84325902, -0.80532018, -0.82058073, -0.92023124, -1.        ,\n",
              "       -0.98814438, -0.85961411, -0.8706188 , -0.92661512, -0.80118585,\n",
              "       -0.76288204, -0.66499478, -0.67289882, -0.68220115, -0.542119  ,\n",
              "       -0.46508592, -0.21489592, -0.17020823, -0.08247456,  0.06411336,\n",
              "        0.0857576 ,  0.38604654,  0.39468034,  0.40708331,  0.55482607,\n",
              "        0.4571212 ,  0.217267  ,  0.38258092,  0.16187873,  0.16838432,\n",
              "       -0.00227998,  0.21903043,  0.16187873,  0.3212949 ,  0.21939484,\n",
              "        0.2579419 ,  0.30311627,  0.42818056,  0.42708622,  0.36190893,\n",
              "        0.34075119,  0.5010795 ,  0.53816706,  0.70001536,  0.88229221,\n",
              "        0.79577461,  0.88508912,  1.        ,  0.92406145,  0.82860613,\n",
              "        0.68098508,  0.59264357,  0.47146979,  0.36482757,  0.2957594 ,\n",
              "        0.11719085,  0.03547666,  0.24943019,  0.35734934, -0.06003953,\n",
              "       -0.1577444 , -0.08831108, -0.14801663, -0.07827939, -0.19574392,\n",
              "       -0.18431376, -0.59002904, -0.4922635 , -0.35491721, -0.44854844,\n",
              "       -0.49262809, -0.65101096, -0.63915498, -0.56801947, -0.42672144,\n",
              "       -0.5652836 , -0.66894689, -0.65587485, -0.86478211, -0.69569846,\n",
              "       -0.48131966, -0.50685535, -0.62602226, -0.5166438 , -0.5115977 ,\n",
              "       -0.54807742, -0.62887985, -0.77504195, -0.80367848, -0.69776581,\n",
              "       -0.66797389, -0.64091822, -0.57197158, -0.42672144, -0.47432738,\n",
              "       -0.18565155, -0.20747837, -0.25399015, -0.18163838, -0.44915666,\n",
              "       -0.23575011, -0.35035725, -0.29375309, -0.27387135, -0.14047718,\n",
              "       -0.03547666, -0.08375149, -0.09050015, -0.06010039, -0.08423762,\n",
              "        0.1405989 ,  0.1582309 ,  0.12248076,  0.20139842,  0.13731586,\n",
              "        0.01565595, -0.03018676,  0.03717885,  0.09238492, -0.19616956,\n",
              "       -0.09858659,  0.06763947, -0.07128729, -0.06964596, -0.03961061,\n",
              "       -0.04362396,  0.0215537 ,  0.02647845, -0.04167795, -0.07888723,\n",
              "       -0.05797255,  0.23058249,  0.33600865])"
            ]
          },
          "metadata": {},
          "execution_count": 5
        }
      ]
    },
    {
      "cell_type": "code",
      "source": [
        "#Primeros elementos del dataset\n",
        "primeros_elementos = dataset[:5]\n",
        "print(\"Los primeros elementos son:\", primeros_elementos)\n",
        "\n",
        "# Últimos elementos del dataset\n",
        "ultimos_elementos = dataset[-5:]\n",
        "print(\"Los últimos elementos son:\", ultimos_elementos)"
      ],
      "metadata": {
        "colab": {
          "base_uri": "https://localhost:8080/"
        },
        "id": "-gYU_3xrfboE",
        "outputId": "8c9fecf3-71a5-4116-f1b5-51fc7d3025cb"
      },
      "execution_count": 6,
      "outputs": [
        {
          "output_type": "stream",
          "name": "stdout",
          "text": [
            "Los primeros elementos son: [-0.70062339 -0.82088484 -0.93938305 -0.9471652  -0.68785527]\n",
            "Los últimos elementos son: [-0.04167795 -0.07888723 -0.05797255  0.23058249  0.33600865]\n"
          ]
        }
      ]
    },
    {
      "cell_type": "markdown",
      "metadata": {
        "id": "-hJpnnBfzcKF"
      },
      "source": [
        "Observemos los datos cargados"
      ]
    },
    {
      "cell_type": "code",
      "metadata": {
        "id": "Y7ipXvoIyZRt",
        "colab": {
          "base_uri": "https://localhost:8080/",
          "height": 467
        },
        "outputId": "d3e62096-76ef-4bc9-bb23-7c196a5f00bc"
      },
      "source": [
        "#Grafiquemos los datos\n",
        "plt.plot(dataset)\n",
        "plt.xlabel('periodo de tiempo')\n",
        "plt.ylabel('serie normalizada')"
      ],
      "execution_count": 7,
      "outputs": [
        {
          "output_type": "execute_result",
          "data": {
            "text/plain": [
              "Text(0, 0.5, 'serie normalizada')"
            ]
          },
          "metadata": {},
          "execution_count": 7
        },
        {
          "output_type": "display_data",
          "data": {
            "text/plain": [
              "<Figure size 640x480 with 1 Axes>"
            ],
            "image/png": "[encoded data removed]"
          },
          "metadata": {}
        }
      ]
    },
    {
      "cell_type": "markdown",
      "metadata": {
        "id": "uq-M4flwuQsJ"
      },
      "source": []
    },
    {
      "cell_type": "markdown",
      "metadata": {
        "id": "IuD7SivS0bMn"
      },
      "source": [
        "### Parte 2: Cortar la serie ordenada en secuencias\n",
        "\n",
        "Generalmente se representa matemáticamente una serie ordenada como:\n",
        "\n",
        "$$s_{0},s_{1},s_{2},...,s_{P}$$\n",
        "\n",
        "\n",
        "donde $s_{p}$ es el valor numérico de la serie en el intervalo de tiempo $p$ , siendo  $P$ el largo total de la serie. Para aplicar el RNN se debe tratar a la predicción como un problema de regresión. Para ello se debe usar una ventana móvil para construir un set asociado de pares de entrada-salida sobre los cuales aplicar la regresión.\n",
        "\n",
        "Por ejemplo, para una ventana de tamaño T = 3 se deben producir los siguientes pares:\n",
        "\n",
        "$$\\begin{array}{c|c}\n",
        "\\text{Input} & \\text{Output}\\\\\n",
        "\\hline \\color{CornflowerBlue} {\\langle s_{1},s_{2},s_{3}\\rangle} & \\color{Goldenrod}{ s_{4}} \\\\\n",
        "\\ \\color{CornflowerBlue} {\\langle s_{2},s_{3},s_{4} \\rangle } & \\color{Goldenrod} {s_{5} } \\\\\n",
        "\\color{CornflowerBlue}  {\\vdots} & \\color{Goldenrod} {\\vdots}\\\\\n",
        "\\color{CornflowerBlue} { \\langle s_{P-3},s_{P-2},s_{P-1} \\rangle } & \\color{Goldenrod} {s_{P}}\n",
        "\\end{array}$$\n",
        "\n",
        "\n",
        "####Ventana móvil\n",
        "Completar la función llamada **window_transform_series** que ejecuta una ventana móvil a lo largo de una serie de datos y crea los pares de input y output necesarios para el entrenamiento.\n",
        "\n",
        "La función recibe la serie de datos y el tamaño de la ventana (3 en el ejemplo de arriba). Se debe retornar un numpy array."
      ]
    },
    {
      "cell_type": "code",
      "metadata": {
        "id": "HYQ400ZvxkDS"
      },
      "source": [
        "### @TODO: completar la función debajo que transforma los datos en los pares input-output necesarios dado el tamaño de la ventana\n",
        "def window_transform_series(series,window_size):\n",
        "    # variables para los pares input-output\n",
        "    X = []\n",
        "    y = []\n",
        "\n",
        "    ### Se recomienda usar un for dentro de otro for aquí\n",
        "\n",
        "    #For para recorrer la serie de datos\n",
        "    for i in range(len(series) - window_size):\n",
        "\n",
        "      window = series [i: i + window_size]\n",
        "      target = series[i + window_size]\n",
        "\n",
        "      X.append(window)\n",
        "      y.append(target)\n",
        "\n",
        "\n",
        "    # Código auxiliar que puede ser necesario\n",
        "    X = np.asarray(X)\n",
        "    X.shape = (np.shape(X)[0:2])\n",
        "    y = np.asarray(y)\n",
        "    y.shape = (len(y),1)\n",
        "\n",
        "    return X,y"
      ],
      "execution_count": 8,
      "outputs": []
    },
    {
      "cell_type": "markdown",
      "metadata": {
        "id": "Ko2NEdo-5qTg"
      },
      "source": [
        "Se puede probar la función con los datos de debajo:"
      ]
    },
    {
      "cell_type": "markdown",
      "metadata": {
        "id": "FJGLFZtrU31S"
      },
      "source": [
        "### Probar la función window_transform_series\n",
        "A continuación probar el código recién programado. Puede ser sobre la serie de datos del problema o sobre otra serie de datos cuya secuencia sea conocida (por ejemplo Fibonacci)."
      ]
    },
    {
      "cell_type": "code",
      "source": [
        "#Función para generar la serie de Fibonacci\n",
        "def fibonacci(n):\n",
        "  series = [0,1]\n",
        "  while len(series) < n:\n",
        "    series.append(series[-1] + series[-2])\n",
        "  return series"
      ],
      "metadata": {
        "id": "8iFiEKhSn0Uq"
      },
      "execution_count": 9,
      "outputs": []
    },
    {
      "cell_type": "code",
      "source": [
        "#test_series = ...\n",
        "fibonacci_series = fibonacci(20)\n",
        "fibonacci_series"
      ],
      "metadata": {
        "colab": {
          "base_uri": "https://localhost:8080/"
        },
        "id": "bUhz7CygpnHs",
        "outputId": "429c127a-3164-469f-b785-7c86bf8a1818"
      },
      "execution_count": 10,
      "outputs": [
        {
          "output_type": "execute_result",
          "data": {
            "text/plain": [
              "[0,\n",
              " 1,\n",
              " 1,\n",
              " 2,\n",
              " 3,\n",
              " 5,\n",
              " 8,\n",
              " 13,\n",
              " 21,\n",
              " 34,\n",
              " 55,\n",
              " 89,\n",
              " 144,\n",
              " 233,\n",
              " 377,\n",
              " 610,\n",
              " 987,\n",
              " 1597,\n",
              " 2584,\n",
              " 4181]"
            ]
          },
          "metadata": {},
          "execution_count": 10
        }
      ]
    },
    {
      "cell_type": "code",
      "metadata": {
        "id": "4wz5jQbq5uQS"
      },
      "source": [
        "### @TODO\n",
        "# Utilizar una ventana de tamaño 2 y obtener el siguiente número de la serie\n",
        "\n",
        "#Se escoge el tamaño de ventana 2\n",
        "window_size_f = 2\n",
        "X,y = window_transform_series(fibonacci_series, window_size_f)"
      ],
      "execution_count": 12,
      "outputs": []
    },
    {
      "cell_type": "code",
      "source": [
        "#Print el resultado\n",
        "print(X,y)"
      ],
      "metadata": {
        "colab": {
          "base_uri": "https://localhost:8080/"
        },
        "id": "1GDN-jpxqpiP",
        "outputId": "cab20818-a473-4aef-f0fb-92439e825432"
      },
      "execution_count": 13,
      "outputs": [
        {
          "output_type": "stream",
          "name": "stdout",
          "text": [
            "[[   0    1]\n",
            " [   1    1]\n",
            " [   1    2]\n",
            " [   2    3]\n",
            " [   3    5]\n",
            " [   5    8]\n",
            " [   8   13]\n",
            " [  13   21]\n",
            " [  21   34]\n",
            " [  34   55]\n",
            " [  55   89]\n",
            " [  89  144]\n",
            " [ 144  233]\n",
            " [ 233  377]\n",
            " [ 377  610]\n",
            " [ 610  987]\n",
            " [ 987 1597]\n",
            " [1597 2584]] [[   1]\n",
            " [   2]\n",
            " [   3]\n",
            " [   5]\n",
            " [   8]\n",
            " [  13]\n",
            " [  21]\n",
            " [  34]\n",
            " [  55]\n",
            " [  89]\n",
            " [ 144]\n",
            " [ 233]\n",
            " [ 377]\n",
            " [ 610]\n",
            " [ 987]\n",
            " [1597]\n",
            " [2584]\n",
            " [4181]]\n"
          ]
        }
      ]
    },
    {
      "cell_type": "code",
      "metadata": {
        "id": "SYGfV2mT5wOu",
        "colab": {
          "base_uri": "https://localhost:8080/"
        },
        "outputId": "cdf46a54-077b-49db-9cca-448e8a6b4182"
      },
      "source": [
        "print ('El input X es:')\n",
        "print (X)\n",
        "\n",
        "print ('El output y asociado es:')\n",
        "print (y)"
      ],
      "execution_count": 14,
      "outputs": [
        {
          "output_type": "stream",
          "name": "stdout",
          "text": [
            "El input X es:\n",
            "[[   0    1]\n",
            " [   1    1]\n",
            " [   1    2]\n",
            " [   2    3]\n",
            " [   3    5]\n",
            " [   5    8]\n",
            " [   8   13]\n",
            " [  13   21]\n",
            " [  21   34]\n",
            " [  34   55]\n",
            " [  55   89]\n",
            " [  89  144]\n",
            " [ 144  233]\n",
            " [ 233  377]\n",
            " [ 377  610]\n",
            " [ 610  987]\n",
            " [ 987 1597]\n",
            " [1597 2584]]\n",
            "El output y asociado es:\n",
            "[[   1]\n",
            " [   2]\n",
            " [   3]\n",
            " [   5]\n",
            " [   8]\n",
            " [  13]\n",
            " [  21]\n",
            " [  34]\n",
            " [  55]\n",
            " [  89]\n",
            " [ 144]\n",
            " [ 233]\n",
            " [ 377]\n",
            " [ 610]\n",
            " [ 987]\n",
            " [1597]\n",
            " [2584]\n",
            " [4181]]\n"
          ]
        }
      ]
    },
    {
      "cell_type": "markdown",
      "metadata": {
        "id": "twP8lefj50wH"
      },
      "source": [
        "Una vez que la función de arriba funcione correctamente, aplicarla con una ventana de tamaño 7 al juego de datos cargados.\n",
        "\n"
      ]
    },
    {
      "cell_type": "code",
      "metadata": {
        "id": "jp03sQYp5yiy"
      },
      "source": [
        "### @TODO\n",
        "\n",
        "#Se define un windws_size de 7 y se usa la función anterior con la series en cuestión\n",
        "window_size = 7\n",
        "X,y = window_transform_series(dataset, window_size)"
      ],
      "execution_count": 15,
      "outputs": []
    },
    {
      "cell_type": "code",
      "source": [
        "#Print el resultado para X y y\n",
        "print(X,y)"
      ],
      "metadata": {
        "colab": {
          "base_uri": "https://localhost:8080/"
        },
        "id": "ItCf0pKS1qpq",
        "outputId": "d353e5e1-d655-476d-efd1-407cc16e6cca"
      },
      "execution_count": 16,
      "outputs": [
        {
          "output_type": "stream",
          "name": "stdout",
          "text": [
            "[[-0.70062339 -0.82088484 -0.93938305 -0.9471652  -0.68785527 -0.84325902\n",
            "  -0.80532018]\n",
            " [-0.82088484 -0.93938305 -0.9471652  -0.68785527 -0.84325902 -0.80532018\n",
            "  -0.82058073]\n",
            " [-0.93938305 -0.9471652  -0.68785527 -0.84325902 -0.80532018 -0.82058073\n",
            "  -0.92023124]\n",
            " [-0.9471652  -0.68785527 -0.84325902 -0.80532018 -0.82058073 -0.92023124\n",
            "  -1.        ]\n",
            " [-0.68785527 -0.84325902 -0.80532018 -0.82058073 -0.92023124 -1.\n",
            "  -0.98814438]\n",
            " [-0.84325902 -0.80532018 -0.82058073 -0.92023124 -1.         -0.98814438\n",
            "  -0.85961411]\n",
            " [-0.80532018 -0.82058073 -0.92023124 -1.         -0.98814438 -0.85961411\n",
            "  -0.8706188 ]\n",
            " [-0.82058073 -0.92023124 -1.         -0.98814438 -0.85961411 -0.8706188\n",
            "  -0.92661512]\n",
            " [-0.92023124 -1.         -0.98814438 -0.85961411 -0.8706188  -0.92661512\n",
            "  -0.80118585]\n",
            " [-1.         -0.98814438 -0.85961411 -0.8706188  -0.92661512 -0.80118585\n",
            "  -0.76288204]\n",
            " [-0.98814438 -0.85961411 -0.8706188  -0.92661512 -0.80118585 -0.76288204\n",
            "  -0.66499478]\n",
            " [-0.85961411 -0.8706188  -0.92661512 -0.80118585 -0.76288204 -0.66499478\n",
            "  -0.67289882]\n",
            " [-0.8706188  -0.92661512 -0.80118585 -0.76288204 -0.66499478 -0.67289882\n",
            "  -0.68220115]\n",
            " [-0.92661512 -0.80118585 -0.76288204 -0.66499478 -0.67289882 -0.68220115\n",
            "  -0.542119  ]\n",
            " [-0.80118585 -0.76288204 -0.66499478 -0.67289882 -0.68220115 -0.542119\n",
            "  -0.46508592]\n",
            " [-0.76288204 -0.66499478 -0.67289882 -0.68220115 -0.542119   -0.46508592\n",
            "  -0.21489592]\n",
            " [-0.66499478 -0.67289882 -0.68220115 -0.542119   -0.46508592 -0.21489592\n",
            "  -0.17020823]\n",
            " [-0.67289882 -0.68220115 -0.542119   -0.46508592 -0.21489592 -0.17020823\n",
            "  -0.08247456]\n",
            " [-0.68220115 -0.542119   -0.46508592 -0.21489592 -0.17020823 -0.08247456\n",
            "   0.06411336]\n",
            " [-0.542119   -0.46508592 -0.21489592 -0.17020823 -0.08247456  0.06411336\n",
            "   0.0857576 ]\n",
            " [-0.46508592 -0.21489592 -0.17020823 -0.08247456  0.06411336  0.0857576\n",
            "   0.38604654]\n",
            " [-0.21489592 -0.17020823 -0.08247456  0.06411336  0.0857576   0.38604654\n",
            "   0.39468034]\n",
            " [-0.17020823 -0.08247456  0.06411336  0.0857576   0.38604654  0.39468034\n",
            "   0.40708331]\n",
            " [-0.08247456  0.06411336  0.0857576   0.38604654  0.39468034  0.40708331\n",
            "   0.55482607]\n",
            " [ 0.06411336  0.0857576   0.38604654  0.39468034  0.40708331  0.55482607\n",
            "   0.4571212 ]\n",
            " [ 0.0857576   0.38604654  0.39468034  0.40708331  0.55482607  0.4571212\n",
            "   0.217267  ]\n",
            " [ 0.38604654  0.39468034  0.40708331  0.55482607  0.4571212   0.217267\n",
            "   0.38258092]\n",
            " [ 0.39468034  0.40708331  0.55482607  0.4571212   0.217267    0.38258092\n",
            "   0.16187873]\n",
            " [ 0.40708331  0.55482607  0.4571212   0.217267    0.38258092  0.16187873\n",
            "   0.16838432]\n",
            " [ 0.55482607  0.4571212   0.217267    0.38258092  0.16187873  0.16838432\n",
            "  -0.00227998]\n",
            " [ 0.4571212   0.217267    0.38258092  0.16187873  0.16838432 -0.00227998\n",
            "   0.21903043]\n",
            " [ 0.217267    0.38258092  0.16187873  0.16838432 -0.00227998  0.21903043\n",
            "   0.16187873]\n",
            " [ 0.38258092  0.16187873  0.16838432 -0.00227998  0.21903043  0.16187873\n",
            "   0.3212949 ]\n",
            " [ 0.16187873  0.16838432 -0.00227998  0.21903043  0.16187873  0.3212949\n",
            "   0.21939484]\n",
            " [ 0.16838432 -0.00227998  0.21903043  0.16187873  0.3212949   0.21939484\n",
            "   0.2579419 ]\n",
            " [-0.00227998  0.21903043  0.16187873  0.3212949   0.21939484  0.2579419\n",
            "   0.30311627]\n",
            " [ 0.21903043  0.16187873  0.3212949   0.21939484  0.2579419   0.30311627\n",
            "   0.42818056]\n",
            " [ 0.16187873  0.3212949   0.21939484  0.2579419   0.30311627  0.42818056\n",
            "   0.42708622]\n",
            " [ 0.3212949   0.21939484  0.2579419   0.30311627  0.42818056  0.42708622\n",
            "   0.36190893]\n",
            " [ 0.21939484  0.2579419   0.30311627  0.42818056  0.42708622  0.36190893\n",
            "   0.34075119]\n",
            " [ 0.2579419   0.30311627  0.42818056  0.42708622  0.36190893  0.34075119\n",
            "   0.5010795 ]\n",
            " [ 0.30311627  0.42818056  0.42708622  0.36190893  0.34075119  0.5010795\n",
            "   0.53816706]\n",
            " [ 0.42818056  0.42708622  0.36190893  0.34075119  0.5010795   0.53816706\n",
            "   0.70001536]\n",
            " [ 0.42708622  0.36190893  0.34075119  0.5010795   0.53816706  0.70001536\n",
            "   0.88229221]\n",
            " [ 0.36190893  0.34075119  0.5010795   0.53816706  0.70001536  0.88229221\n",
            "   0.79577461]\n",
            " [ 0.34075119  0.5010795   0.53816706  0.70001536  0.88229221  0.79577461\n",
            "   0.88508912]\n",
            " [ 0.5010795   0.53816706  0.70001536  0.88229221  0.79577461  0.88508912\n",
            "   1.        ]\n",
            " [ 0.53816706  0.70001536  0.88229221  0.79577461  0.88508912  1.\n",
            "   0.92406145]\n",
            " [ 0.70001536  0.88229221  0.79577461  0.88508912  1.          0.92406145\n",
            "   0.82860613]\n",
            " [ 0.88229221  0.79577461  0.88508912  1.          0.92406145  0.82860613\n",
            "   0.68098508]\n",
            " [ 0.79577461  0.88508912  1.          0.92406145  0.82860613  0.68098508\n",
            "   0.59264357]\n",
            " [ 0.88508912  1.          0.92406145  0.82860613  0.68098508  0.59264357\n",
            "   0.47146979]\n",
            " [ 1.          0.92406145  0.82860613  0.68098508  0.59264357  0.47146979\n",
            "   0.36482757]\n",
            " [ 0.92406145  0.82860613  0.68098508  0.59264357  0.47146979  0.36482757\n",
            "   0.2957594 ]\n",
            " [ 0.82860613  0.68098508  0.59264357  0.47146979  0.36482757  0.2957594\n",
            "   0.11719085]\n",
            " [ 0.68098508  0.59264357  0.47146979  0.36482757  0.2957594   0.11719085\n",
            "   0.03547666]\n",
            " [ 0.59264357  0.47146979  0.36482757  0.2957594   0.11719085  0.03547666\n",
            "   0.24943019]\n",
            " [ 0.47146979  0.36482757  0.2957594   0.11719085  0.03547666  0.24943019\n",
            "   0.35734934]\n",
            " [ 0.36482757  0.2957594   0.11719085  0.03547666  0.24943019  0.35734934\n",
            "  -0.06003953]\n",
            " [ 0.2957594   0.11719085  0.03547666  0.24943019  0.35734934 -0.06003953\n",
            "  -0.1577444 ]\n",
            " [ 0.11719085  0.03547666  0.24943019  0.35734934 -0.06003953 -0.1577444\n",
            "  -0.08831108]\n",
            " [ 0.03547666  0.24943019  0.35734934 -0.06003953 -0.1577444  -0.08831108\n",
            "  -0.14801663]\n",
            " [ 0.24943019  0.35734934 -0.06003953 -0.1577444  -0.08831108 -0.14801663\n",
            "  -0.07827939]\n",
            " [ 0.35734934 -0.06003953 -0.1577444  -0.08831108 -0.14801663 -0.07827939\n",
            "  -0.19574392]\n",
            " [-0.06003953 -0.1577444  -0.08831108 -0.14801663 -0.07827939 -0.19574392\n",
            "  -0.18431376]\n",
            " [-0.1577444  -0.08831108 -0.14801663 -0.07827939 -0.19574392 -0.18431376\n",
            "  -0.59002904]\n",
            " [-0.08831108 -0.14801663 -0.07827939 -0.19574392 -0.18431376 -0.59002904\n",
            "  -0.4922635 ]\n",
            " [-0.14801663 -0.07827939 -0.19574392 -0.18431376 -0.59002904 -0.4922635\n",
            "  -0.35491721]\n",
            " [-0.07827939 -0.19574392 -0.18431376 -0.59002904 -0.4922635  -0.35491721\n",
            "  -0.44854844]\n",
            " [-0.19574392 -0.18431376 -0.59002904 -0.4922635  -0.35491721 -0.44854844\n",
            "  -0.49262809]\n",
            " [-0.18431376 -0.59002904 -0.4922635  -0.35491721 -0.44854844 -0.49262809\n",
            "  -0.65101096]\n",
            " [-0.59002904 -0.4922635  -0.35491721 -0.44854844 -0.49262809 -0.65101096\n",
            "  -0.63915498]\n",
            " [-0.4922635  -0.35491721 -0.44854844 -0.49262809 -0.65101096 -0.63915498\n",
            "  -0.56801947]\n",
            " [-0.35491721 -0.44854844 -0.49262809 -0.65101096 -0.63915498 -0.56801947\n",
            "  -0.42672144]\n",
            " [-0.44854844 -0.49262809 -0.65101096 -0.63915498 -0.56801947 -0.42672144\n",
            "  -0.5652836 ]\n",
            " [-0.49262809 -0.65101096 -0.63915498 -0.56801947 -0.42672144 -0.5652836\n",
            "  -0.66894689]\n",
            " [-0.65101096 -0.63915498 -0.56801947 -0.42672144 -0.5652836  -0.66894689\n",
            "  -0.65587485]\n",
            " [-0.63915498 -0.56801947 -0.42672144 -0.5652836  -0.66894689 -0.65587485\n",
            "  -0.86478211]\n",
            " [-0.56801947 -0.42672144 -0.5652836  -0.66894689 -0.65587485 -0.86478211\n",
            "  -0.69569846]\n",
            " [-0.42672144 -0.5652836  -0.66894689 -0.65587485 -0.86478211 -0.69569846\n",
            "  -0.48131966]\n",
            " [-0.5652836  -0.66894689 -0.65587485 -0.86478211 -0.69569846 -0.48131966\n",
            "  -0.50685535]\n",
            " [-0.66894689 -0.65587485 -0.86478211 -0.69569846 -0.48131966 -0.50685535\n",
            "  -0.62602226]\n",
            " [-0.65587485 -0.86478211 -0.69569846 -0.48131966 -0.50685535 -0.62602226\n",
            "  -0.5166438 ]\n",
            " [-0.86478211 -0.69569846 -0.48131966 -0.50685535 -0.62602226 -0.5166438\n",
            "  -0.5115977 ]\n",
            " [-0.69569846 -0.48131966 -0.50685535 -0.62602226 -0.5166438  -0.5115977\n",
            "  -0.54807742]\n",
            " [-0.48131966 -0.50685535 -0.62602226 -0.5166438  -0.5115977  -0.54807742\n",
            "  -0.62887985]\n",
            " [-0.50685535 -0.62602226 -0.5166438  -0.5115977  -0.54807742 -0.62887985\n",
            "  -0.77504195]\n",
            " [-0.62602226 -0.5166438  -0.5115977  -0.54807742 -0.62887985 -0.77504195\n",
            "  -0.80367848]\n",
            " [-0.5166438  -0.5115977  -0.54807742 -0.62887985 -0.77504195 -0.80367848\n",
            "  -0.69776581]\n",
            " [-0.5115977  -0.54807742 -0.62887985 -0.77504195 -0.80367848 -0.69776581\n",
            "  -0.66797389]\n",
            " [-0.54807742 -0.62887985 -0.77504195 -0.80367848 -0.69776581 -0.66797389\n",
            "  -0.64091822]\n",
            " [-0.62887985 -0.77504195 -0.80367848 -0.69776581 -0.66797389 -0.64091822\n",
            "  -0.57197158]\n",
            " [-0.77504195 -0.80367848 -0.69776581 -0.66797389 -0.64091822 -0.57197158\n",
            "  -0.42672144]\n",
            " [-0.80367848 -0.69776581 -0.66797389 -0.64091822 -0.57197158 -0.42672144\n",
            "  -0.47432738]\n",
            " [-0.69776581 -0.66797389 -0.64091822 -0.57197158 -0.42672144 -0.47432738\n",
            "  -0.18565155]\n",
            " [-0.66797389 -0.64091822 -0.57197158 -0.42672144 -0.47432738 -0.18565155\n",
            "  -0.20747837]\n",
            " [-0.64091822 -0.57197158 -0.42672144 -0.47432738 -0.18565155 -0.20747837\n",
            "  -0.25399015]\n",
            " [-0.57197158 -0.42672144 -0.47432738 -0.18565155 -0.20747837 -0.25399015\n",
            "  -0.18163838]\n",
            " [-0.42672144 -0.47432738 -0.18565155 -0.20747837 -0.25399015 -0.18163838\n",
            "  -0.44915666]\n",
            " [-0.47432738 -0.18565155 -0.20747837 -0.25399015 -0.18163838 -0.44915666\n",
            "  -0.23575011]\n",
            " [-0.18565155 -0.20747837 -0.25399015 -0.18163838 -0.44915666 -0.23575011\n",
            "  -0.35035725]\n",
            " [-0.20747837 -0.25399015 -0.18163838 -0.44915666 -0.23575011 -0.35035725\n",
            "  -0.29375309]\n",
            " [-0.25399015 -0.18163838 -0.44915666 -0.23575011 -0.35035725 -0.29375309\n",
            "  -0.27387135]\n",
            " [-0.18163838 -0.44915666 -0.23575011 -0.35035725 -0.29375309 -0.27387135\n",
            "  -0.14047718]\n",
            " [-0.44915666 -0.23575011 -0.35035725 -0.29375309 -0.27387135 -0.14047718\n",
            "  -0.03547666]\n",
            " [-0.23575011 -0.35035725 -0.29375309 -0.27387135 -0.14047718 -0.03547666\n",
            "  -0.08375149]\n",
            " [-0.35035725 -0.29375309 -0.27387135 -0.14047718 -0.03547666 -0.08375149\n",
            "  -0.09050015]\n",
            " [-0.29375309 -0.27387135 -0.14047718 -0.03547666 -0.08375149 -0.09050015\n",
            "  -0.06010039]\n",
            " [-0.27387135 -0.14047718 -0.03547666 -0.08375149 -0.09050015 -0.06010039\n",
            "  -0.08423762]\n",
            " [-0.14047718 -0.03547666 -0.08375149 -0.09050015 -0.06010039 -0.08423762\n",
            "   0.1405989 ]\n",
            " [-0.03547666 -0.08375149 -0.09050015 -0.06010039 -0.08423762  0.1405989\n",
            "   0.1582309 ]\n",
            " [-0.08375149 -0.09050015 -0.06010039 -0.08423762  0.1405989   0.1582309\n",
            "   0.12248076]\n",
            " [-0.09050015 -0.06010039 -0.08423762  0.1405989   0.1582309   0.12248076\n",
            "   0.20139842]\n",
            " [-0.06010039 -0.08423762  0.1405989   0.1582309   0.12248076  0.20139842\n",
            "   0.13731586]\n",
            " [-0.08423762  0.1405989   0.1582309   0.12248076  0.20139842  0.13731586\n",
            "   0.01565595]\n",
            " [ 0.1405989   0.1582309   0.12248076  0.20139842  0.13731586  0.01565595\n",
            "  -0.03018676]\n",
            " [ 0.1582309   0.12248076  0.20139842  0.13731586  0.01565595 -0.03018676\n",
            "   0.03717885]\n",
            " [ 0.12248076  0.20139842  0.13731586  0.01565595 -0.03018676  0.03717885\n",
            "   0.09238492]\n",
            " [ 0.20139842  0.13731586  0.01565595 -0.03018676  0.03717885  0.09238492\n",
            "  -0.19616956]\n",
            " [ 0.13731586  0.01565595 -0.03018676  0.03717885  0.09238492 -0.19616956\n",
            "  -0.09858659]\n",
            " [ 0.01565595 -0.03018676  0.03717885  0.09238492 -0.19616956 -0.09858659\n",
            "   0.06763947]\n",
            " [-0.03018676  0.03717885  0.09238492 -0.19616956 -0.09858659  0.06763947\n",
            "  -0.07128729]\n",
            " [ 0.03717885  0.09238492 -0.19616956 -0.09858659  0.06763947 -0.07128729\n",
            "  -0.06964596]\n",
            " [ 0.09238492 -0.19616956 -0.09858659  0.06763947 -0.07128729 -0.06964596\n",
            "  -0.03961061]\n",
            " [-0.19616956 -0.09858659  0.06763947 -0.07128729 -0.06964596 -0.03961061\n",
            "  -0.04362396]\n",
            " [-0.09858659  0.06763947 -0.07128729 -0.06964596 -0.03961061 -0.04362396\n",
            "   0.0215537 ]\n",
            " [ 0.06763947 -0.07128729 -0.06964596 -0.03961061 -0.04362396  0.0215537\n",
            "   0.02647845]\n",
            " [-0.07128729 -0.06964596 -0.03961061 -0.04362396  0.0215537   0.02647845\n",
            "  -0.04167795]\n",
            " [-0.06964596 -0.03961061 -0.04362396  0.0215537   0.02647845 -0.04167795\n",
            "  -0.07888723]\n",
            " [-0.03961061 -0.04362396  0.0215537   0.02647845 -0.04167795 -0.07888723\n",
            "  -0.05797255]\n",
            " [-0.04362396  0.0215537   0.02647845 -0.04167795 -0.07888723 -0.05797255\n",
            "   0.23058249]] [[-0.82058073]\n",
            " [-0.92023124]\n",
            " [-1.        ]\n",
            " [-0.98814438]\n",
            " [-0.85961411]\n",
            " [-0.8706188 ]\n",
            " [-0.92661512]\n",
            " [-0.80118585]\n",
            " [-0.76288204]\n",
            " [-0.66499478]\n",
            " [-0.67289882]\n",
            " [-0.68220115]\n",
            " [-0.542119  ]\n",
            " [-0.46508592]\n",
            " [-0.21489592]\n",
            " [-0.17020823]\n",
            " [-0.08247456]\n",
            " [ 0.06411336]\n",
            " [ 0.0857576 ]\n",
            " [ 0.38604654]\n",
            " [ 0.39468034]\n",
            " [ 0.40708331]\n",
            " [ 0.55482607]\n",
            " [ 0.4571212 ]\n",
            " [ 0.217267  ]\n",
            " [ 0.38258092]\n",
            " [ 0.16187873]\n",
            " [ 0.16838432]\n",
            " [-0.00227998]\n",
            " [ 0.21903043]\n",
            " [ 0.16187873]\n",
            " [ 0.3212949 ]\n",
            " [ 0.21939484]\n",
            " [ 0.2579419 ]\n",
            " [ 0.30311627]\n",
            " [ 0.42818056]\n",
            " [ 0.42708622]\n",
            " [ 0.36190893]\n",
            " [ 0.34075119]\n",
            " [ 0.5010795 ]\n",
            " [ 0.53816706]\n",
            " [ 0.70001536]\n",
            " [ 0.88229221]\n",
            " [ 0.79577461]\n",
            " [ 0.88508912]\n",
            " [ 1.        ]\n",
            " [ 0.92406145]\n",
            " [ 0.82860613]\n",
            " [ 0.68098508]\n",
            " [ 0.59264357]\n",
            " [ 0.47146979]\n",
            " [ 0.36482757]\n",
            " [ 0.2957594 ]\n",
            " [ 0.11719085]\n",
            " [ 0.03547666]\n",
            " [ 0.24943019]\n",
            " [ 0.35734934]\n",
            " [-0.06003953]\n",
            " [-0.1577444 ]\n",
            " [-0.08831108]\n",
            " [-0.14801663]\n",
            " [-0.07827939]\n",
            " [-0.19574392]\n",
            " [-0.18431376]\n",
            " [-0.59002904]\n",
            " [-0.4922635 ]\n",
            " [-0.35491721]\n",
            " [-0.44854844]\n",
            " [-0.49262809]\n",
            " [-0.65101096]\n",
            " [-0.63915498]\n",
            " [-0.56801947]\n",
            " [-0.42672144]\n",
            " [-0.5652836 ]\n",
            " [-0.66894689]\n",
            " [-0.65587485]\n",
            " [-0.86478211]\n",
            " [-0.69569846]\n",
            " [-0.48131966]\n",
            " [-0.50685535]\n",
            " [-0.62602226]\n",
            " [-0.5166438 ]\n",
            " [-0.5115977 ]\n",
            " [-0.54807742]\n",
            " [-0.62887985]\n",
            " [-0.77504195]\n",
            " [-0.80367848]\n",
            " [-0.69776581]\n",
            " [-0.66797389]\n",
            " [-0.64091822]\n",
            " [-0.57197158]\n",
            " [-0.42672144]\n",
            " [-0.47432738]\n",
            " [-0.18565155]\n",
            " [-0.20747837]\n",
            " [-0.25399015]\n",
            " [-0.18163838]\n",
            " [-0.44915666]\n",
            " [-0.23575011]\n",
            " [-0.35035725]\n",
            " [-0.29375309]\n",
            " [-0.27387135]\n",
            " [-0.14047718]\n",
            " [-0.03547666]\n",
            " [-0.08375149]\n",
            " [-0.09050015]\n",
            " [-0.06010039]\n",
            " [-0.08423762]\n",
            " [ 0.1405989 ]\n",
            " [ 0.1582309 ]\n",
            " [ 0.12248076]\n",
            " [ 0.20139842]\n",
            " [ 0.13731586]\n",
            " [ 0.01565595]\n",
            " [-0.03018676]\n",
            " [ 0.03717885]\n",
            " [ 0.09238492]\n",
            " [-0.19616956]\n",
            " [-0.09858659]\n",
            " [ 0.06763947]\n",
            " [-0.07128729]\n",
            " [-0.06964596]\n",
            " [-0.03961061]\n",
            " [-0.04362396]\n",
            " [ 0.0215537 ]\n",
            " [ 0.02647845]\n",
            " [-0.04167795]\n",
            " [-0.07888723]\n",
            " [-0.05797255]\n",
            " [ 0.23058249]\n",
            " [ 0.33600865]]\n"
          ]
        }
      ]
    },
    {
      "cell_type": "markdown",
      "metadata": {
        "id": "t2BYsK4W56zB"
      },
      "source": [
        "###Parte 3: Separar los datos en datos de entrenamiento y de test\n",
        "Se recomienda separar al menos un tercio de los datos para validación o test. Hacer eso a continuación. Aprovechar que es una serie ordenada y no hacer un split aleatorio de los datos para separar en test y train."
      ]
    },
    {
      "cell_type": "code",
      "metadata": {
        "id": "V8iZ5rLF53zT",
        "colab": {
          "base_uri": "https://localhost:8080/"
        },
        "outputId": "92c348ca-b706-405f-d2d1-12cda0f638ec"
      },
      "source": [
        "### @TODO\n",
        "\n",
        "#train_test_split = ...\n",
        "\n",
        "division_index = int(len(dataset)* 0.67)\n",
        "\n",
        "# Partir los datos\n",
        "X_train = X[:division_index]\n",
        "y_train = y[:division_index]\n",
        "\n",
        "# Mantener la última parte para test\n",
        "X_test = X[division_index:]\n",
        "y_test = y[division_index:]\n",
        "\n",
        "\n",
        "print(\"X_train:\", X_train.shape)\n",
        "print(\"y_train:\", y_train.shape)\n",
        "print(\"X_test:\", X_test.shape)\n",
        "print(\"y_test:\", y_test.shape)"
      ],
      "execution_count": 17,
      "outputs": [
        {
          "output_type": "stream",
          "name": "stdout",
          "text": [
            "X_train: (92, 7)\n",
            "y_train: (92, 1)\n",
            "X_test: (39, 7)\n",
            "y_test: (39, 1)\n"
          ]
        }
      ]
    },
    {
      "cell_type": "code",
      "metadata": {
        "id": "WcYCHvJs6EhM"
      },
      "source": [
        "# IMPORTANTE: para utilizar el módulo RNN LSTM de Keras el input debe tener la forma [samples, window size, stepsize]\n",
        "#Estas transformaciones se hacen a continuación\n",
        "X_train = np.asarray(np.reshape(X_train, (X_train.shape[0], window_size, 1)))\n",
        "X_test = np.asarray(np.reshape(X_test, (X_test.shape[0], window_size, 1)))"
      ],
      "execution_count": 18,
      "outputs": []
    },
    {
      "cell_type": "code",
      "source": [
        "X_train.shape"
      ],
      "metadata": {
        "colab": {
          "base_uri": "https://localhost:8080/"
        },
        "id": "NZpGtKFGomRy",
        "outputId": "1dc79b91-aec6-439c-8233-a16fb10dfdcf"
      },
      "execution_count": 19,
      "outputs": [
        {
          "output_type": "execute_result",
          "data": {
            "text/plain": [
              "(92, 7, 1)"
            ]
          },
          "metadata": {},
          "execution_count": 19
        }
      ]
    },
    {
      "cell_type": "markdown",
      "metadata": {
        "id": "tJF0hQ606KI-"
      },
      "source": [
        "###Parte 4: Crear y ejecutar un modelo de regresión utilizando RNN\n",
        "\n",
        "Se utilizará Keras para construir una red neuronal con dos capas ocultas RNN con las siguientes especificaciones:\n",
        "\n",
        "* La capa 1 debe usar un módulo LSTM con 5 unidades ocultas (el input_shape de la misma debe ser (window_size,1))\n",
        "* La capa 2 usa un módulo completamente conectado (fully connected) con una unidad\n",
        "* Se debe usar la función de pérdida 'mean_squared_error'\n",
        "\n",
        "Ayudas:\n",
        "\n",
        "* [Documentación general de Keras](https://keras.io/getting-started/sequential-model-guide/)\n",
        "* [Documentación de Keras de LTSM](https://keras.io/layers/recurrent/)\n",
        "* Asegurarse de inicializar el [optimizador recomendado por Keras para RNN](https://keras.io/optimizers/)"
      ]
    },
    {
      "cell_type": "code",
      "metadata": {
        "id": "q33SHho_6GL0",
        "colab": {
          "base_uri": "https://localhost:8080/"
        },
        "outputId": "5d7791f2-5a6a-45d6-d893-41fcf07c9efd"
      },
      "source": [
        "### @TODO: Crear el modelo RNN\n",
        "# Importar librerías de Keras\n",
        "from keras.models import Sequential\n",
        "from keras.layers import Dense\n",
        "from keras.layers import LSTM\n",
        "from keras.optimizers import Adam\n",
        "import keras\n",
        "\n",
        "#Crear el modelo secuencial\n",
        "model = Sequential()\n",
        "\n",
        "#Agregar una capa LSTM con 5 unidades ocultas y el input shape necesario\n",
        "model.add(LSTM(5, input_shape=(window_size, 1)))\n",
        "\n",
        "#Agregar una capa densa con una unidad\n",
        "model.add(Dense(1))\n",
        "\n",
        "# Crear el modelo utilizando el optimizador recomendado por la documentación de keras\n",
        "optimizer = Adam(learning_rate=0.01)\n",
        "\n",
        "# Compilar el modelo con la función de pérdida requerida\n",
        "model.compile(loss = 'mean_squared_error', optimizer = optimizer)\n",
        "\n",
        "#Resumen del modelo\n",
        "model.summary()"
      ],
      "execution_count": 20,
      "outputs": [
        {
          "output_type": "stream",
          "name": "stdout",
          "text": [
            "Model: \"sequential\"\n",
            "_________________________________________________________________\n",
            " Layer (type)                Output Shape              Param #   \n",
            "=================================================================\n",
            " lstm (LSTM)                 (None, 5)                 140       \n",
            "                                                                 \n",
            " dense (Dense)               (None, 1)                 6         \n",
            "                                                                 \n",
            "=================================================================\n",
            "Total params: 146 (584.00 Byte)\n",
            "Trainable params: 146 (584.00 Byte)\n",
            "Non-trainable params: 0 (0.00 Byte)\n",
            "_________________________________________________________________\n"
          ]
        }
      ]
    },
    {
      "cell_type": "code",
      "source": [
        "#Función para crear y compilar el modelo\n",
        "\n",
        "def create_model():\n",
        "  #Crear el modelo secuencial\n",
        "  model = Sequential()\n",
        "\n",
        "  #Agregar una capa LSTM con 5 unidades ocultas y el input shape necesario\n",
        "  model.add(LSTM(5, input_shape=(window_size, 1)))\n",
        "\n",
        "  #Agregar una capa densa con una unidad\n",
        "  model.add(Dense(1))\n",
        "\n",
        "  # Crear el modelo utilizando el optimizador recomendado por la documentación de keras\n",
        "  optimizer = Adam(learning_rate=0.01)\n",
        "\n",
        "  # Compilar el modelo con la función de pérdida requerida\n",
        "  model.compile(loss = 'mean_squared_error', optimizer = optimizer)\n",
        "\n",
        "  return model"
      ],
      "metadata": {
        "id": "TTlrRrzsQ91u"
      },
      "execution_count": 21,
      "outputs": []
    },
    {
      "cell_type": "markdown",
      "metadata": {
        "id": "gd-dZ1ix60lN"
      },
      "source": [
        "Entrenar el modelo con los datos separados para esta función haciendo uso de la función fit.\n",
        "\n",
        "Sugerencia: Investigar y probar con distintos valores de epochs y tamaño de batch. Buscar en la documentación de keras por más información.\n"
      ]
    },
    {
      "cell_type": "code",
      "metadata": {
        "id": "8gVfdvyk6xaK"
      },
      "source": [
        "### @TODO\n",
        "# Hacer fit\n",
        "\n",
        "epochs_values = [2, 4, 10]\n",
        "batch_size_values = [16, 32, 64]"
      ],
      "execution_count": 62,
      "outputs": []
    },
    {
      "cell_type": "code",
      "source": [
        "#For para iterar sobre cada combinación de valores\n",
        "\n",
        "for epochs in epochs_values:\n",
        "  for batch_size in batch_size_values:\n",
        "    print(f'Entrenando el modelo')\n",
        "\n",
        "    #Crear el modelo, y entrenarlo\n",
        "    modelo = create_model()\n",
        "    history = model.fit(X_train, y_train, epochs=epochs, batch_size = batch_size, validation_data=(X_test, y_test), verbose = 0)\n",
        "\n",
        "    loss= model.evaluate(X_test, y_test)\n",
        "    print(f'Loss test:{loss}')"
      ],
      "metadata": {
        "colab": {
          "base_uri": "https://localhost:8080/"
        },
        "id": "tnZsBRDFQFYi",
        "outputId": "7c569c7d-e619-400c-b5ea-b8c54838bd39"
      },
      "execution_count": 63,
      "outputs": [
        {
          "output_type": "stream",
          "name": "stdout",
          "text": [
            "Entrenando el modelo\n",
            "2/2 [==============================] - 0s 11ms/step - loss: 0.0154\n",
            "Loss test:0.015395288355648518\n",
            "Entrenando el modelo\n",
            "2/2 [==============================] - 0s 11ms/step - loss: 0.0152\n",
            "Loss test:0.01520307082682848\n",
            "Entrenando el modelo\n",
            "2/2 [==============================] - 0s 8ms/step - loss: 0.0153\n",
            "Loss test:0.015273983590304852\n",
            "Entrenando el modelo\n",
            "2/2 [==============================] - 0s 8ms/step - loss: 0.0152\n",
            "Loss test:0.015208751894533634\n",
            "Entrenando el modelo\n",
            "2/2 [==============================] - 0s 7ms/step - loss: 0.0161\n",
            "Loss test:0.016071349382400513\n",
            "Entrenando el modelo\n",
            "2/2 [==============================] - 0s 9ms/step - loss: 0.0152\n",
            "Loss test:0.0151672987267375\n",
            "Entrenando el modelo\n",
            "2/2 [==============================] - 0s 8ms/step - loss: 0.0154\n",
            "Loss test:0.015436988323926926\n",
            "Entrenando el modelo\n",
            "2/2 [==============================] - 0s 8ms/step - loss: 0.0157\n",
            "Loss test:0.01574241928756237\n",
            "Entrenando el modelo\n",
            "2/2 [==============================] - 0s 10ms/step - loss: 0.0154\n",
            "Loss test:0.015397912822663784\n"
          ]
        }
      ]
    },
    {
      "cell_type": "markdown",
      "metadata": {
        "id": "W52-gZHg7BRF"
      },
      "source": [
        "###Parte 5: Medir la performance del modelo\n",
        "Ahora estamos en condiciones de hacer una predicción"
      ]
    },
    {
      "cell_type": "code",
      "metadata": {
        "id": "-6bFrjyN65zU",
        "colab": {
          "base_uri": "https://localhost:8080/"
        },
        "outputId": "f9ee611f-57d6-4938-e7d3-9c5f52e53593"
      },
      "source": [
        "### @TODO\n",
        "# Hacer la predicción con el modelo entrenado\n",
        "train_predict = model.predict(X_train)\n",
        "test_predict = model.predict(X_test)\n",
        "\n",
        "print(train_predict)\n",
        "print(test_predict)"
      ],
      "execution_count": 64,
      "outputs": [
        {
          "output_type": "stream",
          "name": "stdout",
          "text": [
            "3/3 [==============================] - 0s 5ms/step\n",
            "2/2 [==============================] - 0s 6ms/step\n",
            "[[-0.7656922 ]\n",
            " [-0.7738932 ]\n",
            " [-0.85507107]\n",
            " [-0.9236778 ]\n",
            " [-0.9251547 ]\n",
            " [-0.8228777 ]\n",
            " [-0.8210061 ]\n",
            " [-0.8601591 ]\n",
            " [-0.7574579 ]\n",
            " [-0.71765125]\n",
            " [-0.6273632 ]\n",
            " [-0.63226444]\n",
            " [-0.64226186]\n",
            " [-0.5162227 ]\n",
            " [-0.43928373]\n",
            " [-0.17969003]\n",
            " [-0.10836712]\n",
            " [-0.01304424]\n",
            " [ 0.12912169]\n",
            " [ 0.15604107]\n",
            " [ 0.40236938]\n",
            " [ 0.46235144]\n",
            " [ 0.48377177]\n",
            " [ 0.5772471 ]\n",
            " [ 0.52799374]\n",
            " [ 0.31482142]\n",
            " [ 0.33822176]\n",
            " [ 0.1977133 ]\n",
            " [ 0.15532866]\n",
            " [ 0.02064699]\n",
            " [ 0.15435182]\n",
            " [ 0.16678073]\n",
            " [ 0.29790354]\n",
            " [ 0.2742629 ]\n",
            " [ 0.2874301 ]\n",
            " [ 0.3207762 ]\n",
            " [ 0.4166736 ]\n",
            " [ 0.45456606]\n",
            " [ 0.41264766]\n",
            " [ 0.37475017]\n",
            " [ 0.46767378]\n",
            " [ 0.53145623]\n",
            " [ 0.6647725 ]\n",
            " [ 0.8332286 ]\n",
            " [ 0.8341716 ]\n",
            " [ 0.85779417]\n",
            " [ 0.91819453]\n",
            " [ 0.8816812 ]\n",
            " [ 0.7782434 ]\n",
            " [ 0.6242042 ]\n",
            " [ 0.5086345 ]\n",
            " [ 0.39142329]\n",
            " [ 0.2938236 ]\n",
            " [ 0.23604405]\n",
            " [ 0.10670908]\n",
            " [ 0.01799531]\n",
            " [ 0.1637611 ]\n",
            " [ 0.31325004]\n",
            " [ 0.06153623]\n",
            " [-0.10695951]\n",
            " [-0.11823711]\n",
            " [-0.16878057]\n",
            " [-0.12110133]\n",
            " [-0.1934244 ]\n",
            " [-0.1930717 ]\n",
            " [-0.516943  ]\n",
            " [-0.5331035 ]\n",
            " [-0.42269075]\n",
            " [-0.4740548 ]\n",
            " [-0.50695276]\n",
            " [-0.6413434 ]\n",
            " [-0.6468384 ]\n",
            " [-0.59230655]\n",
            " [-0.44946617]\n",
            " [-0.5503853 ]\n",
            " [-0.6480812 ]\n",
            " [-0.6502797 ]\n",
            " [-0.8215375 ]\n",
            " [-0.70943195]\n",
            " [-0.49704933]\n",
            " [-0.4858548 ]\n",
            " [-0.58974814]\n",
            " [-0.5020394 ]\n",
            " [-0.49425435]\n",
            " [-0.5391569 ]\n",
            " [-0.62056756]\n",
            " [-0.7487413 ]\n",
            " [-0.7867758 ]\n",
            " [-0.70708907]\n",
            " [-0.66574025]\n",
            " [-0.6277463 ]\n",
            " [-0.5530126 ]]\n",
            "[[-0.4009819 ]\n",
            " [-0.43908376]\n",
            " [-0.15913376]\n",
            " [-0.15386713]\n",
            " [-0.20591086]\n",
            " [-0.16083789]\n",
            " [-0.40834635]\n",
            " [-0.27447757]\n",
            " [-0.3615547 ]\n",
            " [-0.3189295 ]\n",
            " [-0.28980547]\n",
            " [-0.15519744]\n",
            " [-0.02158892]\n",
            " [-0.04581089]\n",
            " [-0.0567372 ]\n",
            " [-0.04454267]\n",
            " [-0.06920689]\n",
            " [ 0.1130112 ]\n",
            " [ 0.18029481]\n",
            " [ 0.17490593]\n",
            " [ 0.2288948 ]\n",
            " [ 0.18710908]\n",
            " [ 0.07119171]\n",
            " [-0.01194825]\n",
            " [ 0.01502721]\n",
            " [ 0.07315964]\n",
            " [-0.13151318]\n",
            " [-0.11810084]\n",
            " [ 0.02393916]\n",
            " [-0.04578352]\n",
            " [-0.06148697]\n",
            " [-0.04111445]\n",
            " [-0.03568174]\n",
            " [ 0.01512069]\n",
            " [ 0.03505854]\n",
            " [-0.01101846]\n",
            " [-0.06035811]\n",
            " [-0.06157629]\n",
            " [ 0.17946559]]\n"
          ]
        }
      ]
    },
    {
      "cell_type": "markdown",
      "metadata": {
        "id": "8VmgFxfR7Ifz"
      },
      "source": [
        "Se debería obtener un error sobre los datos de entrenamiento como de test menor al 2%. Si no se consigue este valor, se puede aumentar el número de epochs y re-entrenar el modelo o ajustar el tamaño del batch. Estudiar en la documentación que otros hiper-parámetros se pueden modificar para mejorar la precisión."
      ]
    },
    {
      "cell_type": "code",
      "metadata": {
        "id": "mB6rI3UT7HJa",
        "colab": {
          "base_uri": "https://localhost:8080/"
        },
        "outputId": "41ba2392-03df-49d8-fd93-b2be1c0ffd37"
      },
      "source": [
        "# Medir el error de entrenamiento\n",
        "training_error = model.evaluate(X_train, y_train, verbose=0)\n",
        "print('Error de entrenamiento = ' + str(training_error))\n",
        "\n",
        "#Medir el error del test\n",
        "testing_error = model.evaluate(X_test, y_test, verbose=0)\n",
        "print('Error de test = ' + str(testing_error))"
      ],
      "execution_count": 65,
      "outputs": [
        {
          "output_type": "stream",
          "name": "stdout",
          "text": [
            "Error de entrenamiento = 0.015287525951862335\n",
            "Error de test = 0.015397912822663784\n"
          ]
        }
      ]
    },
    {
      "cell_type": "code",
      "source": [
        "# Creación del gráfico Loss vs Epochs\n",
        "plt.plot(history.history['loss'], label='Training Loss')\n",
        "plt.plot(history.history['val_loss'], label='Validation Loss')\n",
        "plt.title('Model Loss')\n",
        "plt.xlabel('Epochs')\n",
        "plt.ylabel('Loss')\n",
        "plt.legend()\n",
        "plt.show()"
      ],
      "metadata": {
        "colab": {
          "base_uri": "https://localhost:8080/",
          "height": 472
        },
        "id": "Pfbc1mx6sjiu",
        "outputId": "aca5b66c-2e30-45c8-ef49-99f175dea793"
      },
      "execution_count": 67,
      "outputs": [
        {
          "output_type": "display_data",
          "data": {
            "text/plain": [
              "<Figure size 640x480 with 1 Axes>"
            ],
            "image/png": "[encoded data removed]"
          },
          "metadata": {}
        }
      ]
    },
    {
      "cell_type": "markdown",
      "metadata": {
        "id": "Sh6fy9Rv7Pw3"
      },
      "source": [
        "Ahora grafiquemos los datos:"
      ]
    },
    {
      "cell_type": "code",
      "metadata": {
        "id": "Wk8LtGp-7M5A",
        "colab": {
          "base_uri": "https://localhost:8080/",
          "height": 449
        },
        "outputId": "59048d73-1f0f-4f74-9087-ee076891aa0e"
      },
      "source": [
        "import matplotlib.pyplot as plt\n",
        "%matplotlib inline\n",
        "\n",
        "# Graficar serie original\n",
        "plt.plot(dataset, color='k')\n",
        "\n",
        "# Graficar train predict\n",
        "plt.plot(np.arange(window_size, len(train_predict) + window_size), train_predict, color='g')\n",
        "\n",
        "# Graficar test predict\n",
        "plt.plot(np.arange(len(train_predict) + (window_size*2), len(train_predict) + (window_size*2) + len(test_predict)), test_predict, color='b')\n",
        "\n",
        "# Agregar detalles del gráfico\n",
        "plt.xlabel('día')\n",
        "plt.ylabel('Precio de acción de Apple (normalizado)')\n",
        "plt.legend(['Serie original','Test  Predictiom','Predicción de validación'],loc='center left', bbox_to_anchor=(1, 0.5))\n",
        "plt.show()"
      ],
      "execution_count": 50,
      "outputs": [
        {
          "output_type": "display_data",
          "data": {
            "text/plain": [
              "<Figure size 640x480 with 1 Axes>"
            ],
            "image/png": "[encoded data removed]"
          },
          "metadata": {}
        }
      ]
    },
    {
      "cell_type": "markdown",
      "metadata": {
        "id": "rteaX5F97UVa"
      },
      "source": [
        "Nota:[Aquí](https://datamarket.com/data/list/?q=provider%3Atsdl) se pueden encontrar otras series ordenadas con las que probar"
      ]
    },
    {
      "cell_type": "markdown",
      "metadata": {
        "id": "LOwpkpF3V9AY"
      },
      "source": [
        "### Puntos de mejora\n",
        "A continuación listar o llevar adelante los puntos que se entiende pueden mejorar la solución alcanzada."
      ]
    },
    {
      "cell_type": "markdown",
      "metadata": {
        "id": "LsL6HKNuWLF9"
      },
      "source": [
        "(Completar respuesta aquí)"
      ]
    },
    {
      "cell_type": "code",
      "metadata": {
        "id": "Q_gXOkfBWKhP"
      },
      "source": [
        "# Completar respuesta\n",
        "\n",
        "- Aumentar la cantidad de datos: Considero que la cantidad de datos para este tipo de solución se queda corta, aumentaría la cantidad de datos historicos para entrenar el modelo, esto permitirá que el modelo aprenda más \"variedad\" para este set dataos, al igual que patronel temporales más complejos, reduciendo el sobreajuste de datos\n",
        "- Parametros de batch y  epoch: Como se muestra en la función de perdida, ambas líneas dismiuyen sin embargo estos datos fueron escogidos con ensayo y error (guiada por los valores cómunes para este tipo de soluciones). En cambio, si se realiza un proceso de ajuste para los mismos, esto permitirá optimizar mejor el modelo"
      ],
      "execution_count": null,
      "outputs": []
    },
    {
      "cell_type": "code",
      "metadata": {
        "id": "ziuWV1jJWRi1"
      },
      "source": [],
      "execution_count": null,
      "outputs": []
    }
  ]
}